{
 "cells": [
  {
   "cell_type": "code",
   "execution_count": 25,
   "metadata": {},
   "outputs": [],
   "source": [
    "import pandas as pd\n",
    "import numpy as np\n",
    "import matplotlib.pyplot as plt"
   ]
  },
  {
   "cell_type": "code",
   "execution_count": 2,
   "metadata": {},
   "outputs": [],
   "source": [
    "df=pd.read_csv('/users/siddharthsmac/downloads/AirPassengers.csv')"
   ]
  },
  {
   "cell_type": "code",
   "execution_count": 3,
   "metadata": {},
   "outputs": [
    {
     "data": {
      "text/html": [
       "<div>\n",
       "<style scoped>\n",
       "    .dataframe tbody tr th:only-of-type {\n",
       "        vertical-align: middle;\n",
       "    }\n",
       "\n",
       "    .dataframe tbody tr th {\n",
       "        vertical-align: top;\n",
       "    }\n",
       "\n",
       "    .dataframe thead th {\n",
       "        text-align: right;\n",
       "    }\n",
       "</style>\n",
       "<table border=\"1\" class=\"dataframe\">\n",
       "  <thead>\n",
       "    <tr style=\"text-align: right;\">\n",
       "      <th></th>\n",
       "      <th>Month</th>\n",
       "      <th>#Passengers</th>\n",
       "    </tr>\n",
       "  </thead>\n",
       "  <tbody>\n",
       "    <tr>\n",
       "      <th>0</th>\n",
       "      <td>1949-01</td>\n",
       "      <td>112</td>\n",
       "    </tr>\n",
       "    <tr>\n",
       "      <th>1</th>\n",
       "      <td>1949-02</td>\n",
       "      <td>118</td>\n",
       "    </tr>\n",
       "    <tr>\n",
       "      <th>2</th>\n",
       "      <td>1949-03</td>\n",
       "      <td>132</td>\n",
       "    </tr>\n",
       "    <tr>\n",
       "      <th>3</th>\n",
       "      <td>1949-04</td>\n",
       "      <td>129</td>\n",
       "    </tr>\n",
       "    <tr>\n",
       "      <th>4</th>\n",
       "      <td>1949-05</td>\n",
       "      <td>121</td>\n",
       "    </tr>\n",
       "  </tbody>\n",
       "</table>\n",
       "</div>"
      ],
      "text/plain": [
       "     Month  #Passengers\n",
       "0  1949-01          112\n",
       "1  1949-02          118\n",
       "2  1949-03          132\n",
       "3  1949-04          129\n",
       "4  1949-05          121"
      ]
     },
     "execution_count": 3,
     "metadata": {},
     "output_type": "execute_result"
    }
   ],
   "source": [
    "df.head()"
   ]
  },
  {
   "cell_type": "code",
   "execution_count": 4,
   "metadata": {},
   "outputs": [
    {
     "data": {
      "text/plain": [
       "[<matplotlib.lines.Line2D at 0x7fad4538ff90>]"
      ]
     },
     "execution_count": 4,
     "metadata": {},
     "output_type": "execute_result"
    },
    {
     "data": {
      "image/png": "[encoded data removed]",
      "text/plain": [
       "<Figure size 432x288 with 1 Axes>"
      ]
     },
     "metadata": {
      "needs_background": "light"
     },
     "output_type": "display_data"
    }
   ],
   "source": [
    "plt.plot(df.iloc[:,1])"
   ]
  },
  {
   "cell_type": "markdown",
   "metadata": {},
   "source": [
    "### Scaling"
   ]
  },
  {
   "cell_type": "code",
   "execution_count": 5,
   "metadata": {},
   "outputs": [],
   "source": [
    "from sklearn.preprocessing import MinMaxScaler"
   ]
  },
  {
   "cell_type": "code",
   "execution_count": 6,
   "metadata": {},
   "outputs": [],
   "source": [
    "scaler=MinMaxScaler(feature_range=(0,1))\n",
    "df=scaler.fit_transform(df.iloc[:,1:])"
   ]
  },
  {
   "cell_type": "code",
   "execution_count": 7,
   "metadata": {},
   "outputs": [
    {
     "data": {
      "text/plain": [
       "(144, 1)"
      ]
     },
     "execution_count": 7,
     "metadata": {},
     "output_type": "execute_result"
    }
   ],
   "source": [
    "df.shape"
   ]
  },
  {
   "cell_type": "code",
   "execution_count": 8,
   "metadata": {},
   "outputs": [],
   "source": [
    "##splitting dataset into train and test split\n",
    "\n",
    "training_size=int(len(df)*0.65)\n",
    "test_size=len(df)-training_size"
   ]
  },
  {
   "cell_type": "code",
   "execution_count": 9,
   "metadata": {},
   "outputs": [],
   "source": [
    "train_data,test_data=df[0:training_size,:],df[training_size:len(df),:]"
   ]
  },
  {
   "cell_type": "code",
   "execution_count": 10,
   "metadata": {},
   "outputs": [],
   "source": [
    "# convert an array of values into a time-series matrix\n",
    "\n",
    "def create_dataset(dataset, time_step=1):\n",
    "\tdataX, dataY = [], []\n",
    "\tfor i in range(len(dataset)-time_step-1):\n",
    "\t\ta = dataset[i:(i+time_step), 0]   ###i=0, 0,1,2,3\n",
    "\t\tdataX.append(a)\n",
    "\t\tdataY.append(dataset[i + time_step, 0])\n",
    "\treturn numpy.array(dataX), numpy.array(dataY)"
   ]
  },
  {
   "cell_type": "code",
   "execution_count": 11,
   "metadata": {},
   "outputs": [],
   "source": [
    "# reshape into X=t,t+1,t+2,t+3 and Y=t+4\n",
    "\n",
    "import numpy\n",
    "\n",
    "time_step = 4\n",
    "X_train, y_train = create_dataset(train_data, time_step)\n",
    "X_test, y_test = create_dataset(test_data, time_step)"
   ]
  },
  {
   "cell_type": "code",
   "execution_count": 12,
   "metadata": {},
   "outputs": [
    {
     "data": {
      "text/plain": [
       "((88, 4), (88,))"
      ]
     },
     "execution_count": 12,
     "metadata": {},
     "output_type": "execute_result"
    }
   ],
   "source": [
    "X_train.shape, y_train.shape"
   ]
  },
  {
   "cell_type": "code",
   "execution_count": 13,
   "metadata": {},
   "outputs": [],
   "source": [
    "# reshape input to be [samples, time steps, features] which is required for LSTM(3-dimensional)\n",
    "\n",
    "X_train =X_train.reshape(X_train.shape[0], 4, 1)\n",
    "X_test = X_test.reshape(X_test.shape[0], 4, 1)"
   ]
  },
  {
   "cell_type": "markdown",
   "metadata": {},
   "source": [
    "## LSTM layers"
   ]
  },
  {
   "cell_type": "code",
   "execution_count": 26,
   "metadata": {},
   "outputs": [],
   "source": [
    "from tensorflow.keras.models import Sequential\n",
    "from tensorflow.keras.layers import Dense\n",
    "from tensorflow.keras.layers import LSTM"
   ]
  },
  {
   "cell_type": "code",
   "execution_count": 15,
   "metadata": {},
   "outputs": [
    {
     "name": "stdout",
     "output_type": "stream",
     "text": [
      "WARNING:tensorflow:From /Users/siddharthsmac/opt/anaconda3/lib/python3.7/site-packages/tensorflow/python/ops/init_ops.py:1251: calling VarianceScaling.__init__ (from tensorflow.python.ops.init_ops) with dtype is deprecated and will be removed in a future version.\n",
      "Instructions for updating:\n",
      "Call initializer instance with the dtype argument instead of passing it to the constructor\n",
      "Train on 88 samples, validate on 46 samples\n",
      "WARNING:tensorflow:From /Users/siddharthsmac/opt/anaconda3/lib/python3.7/site-packages/tensorflow/python/ops/math_grad.py:1250: add_dispatch_support.<locals>.wrapper (from tensorflow.python.ops.array_ops) is deprecated and will be removed in a future version.\n",
      "Instructions for updating:\n",
      "Use tf.where in 2.0, which has the same broadcast rule as np.where\n",
      "Epoch 1/100\n",
      "88/88 [==============================] - 2s 18ms/sample - loss: 0.0139 - val_loss: 0.0274\n",
      "Epoch 2/100\n",
      "88/88 [==============================] - 1s 6ms/sample - loss: 0.0067 - val_loss: 0.0296\n",
      "Epoch 3/100\n",
      "88/88 [==============================] - 1s 6ms/sample - loss: 0.0060 - val_loss: 0.0262\n",
      "Epoch 4/100\n",
      "88/88 [==============================] - 1s 6ms/sample - loss: 0.0056 - val_loss: 0.0272\n",
      "Epoch 5/100\n",
      "88/88 [==============================] - 1s 6ms/sample - loss: 0.0069 - val_loss: 0.0273\n",
      "Epoch 6/100\n",
      "88/88 [==============================] - 1s 6ms/sample - loss: 0.0057 - val_loss: 0.0246\n",
      "Epoch 7/100\n",
      "88/88 [==============================] - 1s 6ms/sample - loss: 0.0049 - val_loss: 0.0244\n",
      "Epoch 8/100\n",
      "88/88 [==============================] - 1s 6ms/sample - loss: 0.0058 - val_loss: 0.0244\n",
      "Epoch 9/100\n",
      "88/88 [==============================] - 1s 6ms/sample - loss: 0.0053 - val_loss: 0.0295\n",
      "Epoch 10/100\n",
      "88/88 [==============================] - 1s 6ms/sample - loss: 0.0047 - val_loss: 0.0218\n",
      "Epoch 11/100\n",
      "88/88 [==============================] - 1s 6ms/sample - loss: 0.0050 - val_loss: 0.0205\n",
      "Epoch 12/100\n",
      "88/88 [==============================] - 1s 6ms/sample - loss: 0.0040 - val_loss: 0.0219\n",
      "Epoch 13/100\n",
      "88/88 [==============================] - 1s 6ms/sample - loss: 0.0045 - val_loss: 0.0210\n",
      "Epoch 14/100\n",
      "88/88 [==============================] - 1s 6ms/sample - loss: 0.0040 - val_loss: 0.0177\n",
      "Epoch 15/100\n",
      "88/88 [==============================] - 1s 6ms/sample - loss: 0.0039 - val_loss: 0.0198\n",
      "Epoch 16/100\n",
      "88/88 [==============================] - 1s 6ms/sample - loss: 0.0042 - val_loss: 0.0153\n",
      "Epoch 17/100\n",
      "88/88 [==============================] - 1s 6ms/sample - loss: 0.0038 - val_loss: 0.0149\n",
      "Epoch 18/100\n",
      "88/88 [==============================] - 1s 6ms/sample - loss: 0.0035 - val_loss: 0.0134\n",
      "Epoch 19/100\n",
      "88/88 [==============================] - 1s 6ms/sample - loss: 0.0031 - val_loss: 0.0131\n",
      "Epoch 20/100\n",
      "88/88 [==============================] - 1s 6ms/sample - loss: 0.0031 - val_loss: 0.0102\n",
      "Epoch 21/100\n",
      "88/88 [==============================] - 1s 6ms/sample - loss: 0.0030 - val_loss: 0.0086\n",
      "Epoch 22/100\n",
      "88/88 [==============================] - 1s 6ms/sample - loss: 0.0026 - val_loss: 0.0083\n",
      "Epoch 23/100\n",
      "88/88 [==============================] - 1s 6ms/sample - loss: 0.0025 - val_loss: 0.0073\n",
      "Epoch 24/100\n",
      "88/88 [==============================] - 1s 6ms/sample - loss: 0.0023 - val_loss: 0.0077\n",
      "Epoch 25/100\n",
      "88/88 [==============================] - 1s 6ms/sample - loss: 0.0026 - val_loss: 0.0078\n",
      "Epoch 26/100\n",
      "88/88 [==============================] - 1s 6ms/sample - loss: 0.0024 - val_loss: 0.0107\n",
      "Epoch 27/100\n",
      "88/88 [==============================] - 1s 6ms/sample - loss: 0.0022 - val_loss: 0.0078\n",
      "Epoch 28/100\n",
      "88/88 [==============================] - 1s 6ms/sample - loss: 0.0021 - val_loss: 0.0101\n",
      "Epoch 29/100\n",
      "88/88 [==============================] - 1s 6ms/sample - loss: 0.0020 - val_loss: 0.0095\n",
      "Epoch 30/100\n",
      "88/88 [==============================] - 1s 6ms/sample - loss: 0.0021 - val_loss: 0.0078\n",
      "Epoch 31/100\n",
      "88/88 [==============================] - 1s 6ms/sample - loss: 0.0019 - val_loss: 0.0148\n",
      "Epoch 32/100\n",
      "88/88 [==============================] - 1s 6ms/sample - loss: 0.0019 - val_loss: 0.0093\n",
      "Epoch 33/100\n",
      "88/88 [==============================] - 1s 6ms/sample - loss: 0.0019 - val_loss: 0.0088\n",
      "Epoch 34/100\n",
      "88/88 [==============================] - 1s 6ms/sample - loss: 0.0020 - val_loss: 0.0087\n",
      "Epoch 35/100\n",
      "88/88 [==============================] - 1s 6ms/sample - loss: 0.0020 - val_loss: 0.0090\n",
      "Epoch 36/100\n",
      "88/88 [==============================] - 1s 6ms/sample - loss: 0.0019 - val_loss: 0.0099\n",
      "Epoch 37/100\n",
      "88/88 [==============================] - 1s 6ms/sample - loss: 0.0024 - val_loss: 0.0109\n",
      "Epoch 38/100\n",
      "88/88 [==============================] - 1s 6ms/sample - loss: 0.0019 - val_loss: 0.0089\n",
      "Epoch 39/100\n",
      "88/88 [==============================] - 1s 6ms/sample - loss: 0.0018 - val_loss: 0.0082\n",
      "Epoch 40/100\n",
      "88/88 [==============================] - 1s 6ms/sample - loss: 0.0018 - val_loss: 0.0107\n",
      "Epoch 41/100\n",
      "88/88 [==============================] - 1s 6ms/sample - loss: 0.0020 - val_loss: 0.0129\n",
      "Epoch 42/100\n",
      "88/88 [==============================] - 1s 6ms/sample - loss: 0.0022 - val_loss: 0.0091\n",
      "Epoch 43/100\n",
      "88/88 [==============================] - 1s 6ms/sample - loss: 0.0019 - val_loss: 0.0116\n",
      "Epoch 44/100\n",
      "88/88 [==============================] - 1s 6ms/sample - loss: 0.0020 - val_loss: 0.0096\n",
      "Epoch 45/100\n",
      "88/88 [==============================] - 1s 6ms/sample - loss: 0.0020 - val_loss: 0.0086\n",
      "Epoch 46/100\n",
      "88/88 [==============================] - 1s 6ms/sample - loss: 0.0020 - val_loss: 0.0114\n",
      "Epoch 47/100\n",
      "88/88 [==============================] - 1s 6ms/sample - loss: 0.0018 - val_loss: 0.0160\n",
      "Epoch 48/100\n",
      "88/88 [==============================] - 1s 6ms/sample - loss: 0.0019 - val_loss: 0.0118\n",
      "Epoch 49/100\n",
      "88/88 [==============================] - 1s 6ms/sample - loss: 0.0019 - val_loss: 0.0080\n",
      "Epoch 50/100\n",
      "88/88 [==============================] - 1s 6ms/sample - loss: 0.0021 - val_loss: 0.0113\n",
      "Epoch 51/100\n",
      "88/88 [==============================] - 1s 6ms/sample - loss: 0.0018 - val_loss: 0.0107\n",
      "Epoch 52/100\n",
      "88/88 [==============================] - 1s 6ms/sample - loss: 0.0019 - val_loss: 0.0102\n",
      "Epoch 53/100\n",
      "88/88 [==============================] - 1s 7ms/sample - loss: 0.0017 - val_loss: 0.0350\n",
      "Epoch 54/100\n",
      "88/88 [==============================] - 1s 7ms/sample - loss: 0.0021 - val_loss: 0.0118\n",
      "Epoch 55/100\n",
      "88/88 [==============================] - 1s 6ms/sample - loss: 0.0022 - val_loss: 0.0077\n",
      "Epoch 56/100\n",
      "88/88 [==============================] - 1s 7ms/sample - loss: 0.0017 - val_loss: 0.0077\n",
      "Epoch 57/100\n",
      "88/88 [==============================] - 1s 7ms/sample - loss: 0.0018 - val_loss: 0.0148\n",
      "Epoch 58/100\n",
      "88/88 [==============================] - 1s 7ms/sample - loss: 0.0017 - val_loss: 0.0086\n",
      "Epoch 59/100\n",
      "88/88 [==============================] - 1s 7ms/sample - loss: 0.0019 - val_loss: 0.0095\n",
      "Epoch 60/100\n",
      "88/88 [==============================] - 1s 7ms/sample - loss: 0.0018 - val_loss: 0.0104\n",
      "Epoch 61/100\n",
      "88/88 [==============================] - 1s 7ms/sample - loss: 0.0021 - val_loss: 0.0167\n",
      "Epoch 62/100\n",
      "88/88 [==============================] - 1s 7ms/sample - loss: 0.0019 - val_loss: 0.0132\n",
      "Epoch 63/100\n",
      "88/88 [==============================] - 1s 7ms/sample - loss: 0.0018 - val_loss: 0.0105\n",
      "Epoch 64/100\n",
      "88/88 [==============================] - 1s 7ms/sample - loss: 0.0020 - val_loss: 0.0178\n",
      "Epoch 65/100\n",
      "88/88 [==============================] - 1s 6ms/sample - loss: 0.0018 - val_loss: 0.0106\n",
      "Epoch 66/100\n",
      "88/88 [==============================] - 1s 6ms/sample - loss: 0.0021 - val_loss: 0.0271\n",
      "Epoch 67/100\n",
      "88/88 [==============================] - 1s 6ms/sample - loss: 0.0021 - val_loss: 0.0212\n",
      "Epoch 68/100\n",
      "88/88 [==============================] - 1s 7ms/sample - loss: 0.0018 - val_loss: 0.0129\n",
      "Epoch 69/100\n",
      "88/88 [==============================] - 1s 7ms/sample - loss: 0.0020 - val_loss: 0.0168\n",
      "Epoch 70/100\n",
      "88/88 [==============================] - 1s 7ms/sample - loss: 0.0019 - val_loss: 0.0127\n",
      "Epoch 71/100\n",
      "88/88 [==============================] - 1s 7ms/sample - loss: 0.0018 - val_loss: 0.0087\n",
      "Epoch 72/100\n",
      "88/88 [==============================] - 1s 7ms/sample - loss: 0.0018 - val_loss: 0.0178\n",
      "Epoch 73/100\n",
      "88/88 [==============================] - 1s 7ms/sample - loss: 0.0016 - val_loss: 0.0093\n",
      "Epoch 74/100\n",
      "88/88 [==============================] - 1s 7ms/sample - loss: 0.0018 - val_loss: 0.0151\n",
      "Epoch 75/100\n",
      "88/88 [==============================] - 1s 7ms/sample - loss: 0.0018 - val_loss: 0.0184\n",
      "Epoch 76/100\n",
      "88/88 [==============================] - 1s 6ms/sample - loss: 0.0020 - val_loss: 0.0136\n",
      "Epoch 77/100\n",
      "88/88 [==============================] - 1s 6ms/sample - loss: 0.0019 - val_loss: 0.0097\n",
      "Epoch 78/100\n",
      "88/88 [==============================] - 1s 6ms/sample - loss: 0.0017 - val_loss: 0.0129\n",
      "Epoch 79/100\n",
      "88/88 [==============================] - 1s 6ms/sample - loss: 0.0018 - val_loss: 0.0122\n",
      "Epoch 80/100\n",
      "88/88 [==============================] - 1s 6ms/sample - loss: 0.0018 - val_loss: 0.0142\n",
      "Epoch 81/100\n",
      "88/88 [==============================] - 1s 6ms/sample - loss: 0.0019 - val_loss: 0.0121\n",
      "Epoch 82/100\n",
      "88/88 [==============================] - 1s 6ms/sample - loss: 0.0020 - val_loss: 0.0156\n",
      "Epoch 83/100\n",
      "88/88 [==============================] - 1s 6ms/sample - loss: 0.0020 - val_loss: 0.0116\n",
      "Epoch 84/100\n",
      "88/88 [==============================] - 1s 6ms/sample - loss: 0.0019 - val_loss: 0.0095\n",
      "Epoch 85/100\n",
      "88/88 [==============================] - 1s 6ms/sample - loss: 0.0023 - val_loss: 0.0202\n",
      "Epoch 86/100\n",
      "88/88 [==============================] - 1s 6ms/sample - loss: 0.0018 - val_loss: 0.0099\n",
      "Epoch 87/100\n",
      "88/88 [==============================] - 1s 6ms/sample - loss: 0.0019 - val_loss: 0.0220\n",
      "Epoch 88/100\n",
      "88/88 [==============================] - 1s 6ms/sample - loss: 0.0020 - val_loss: 0.0091\n",
      "Epoch 89/100\n",
      "88/88 [==============================] - 1s 6ms/sample - loss: 0.0018 - val_loss: 0.0131\n",
      "Epoch 90/100\n",
      "88/88 [==============================] - 1s 6ms/sample - loss: 0.0019 - val_loss: 0.0101\n",
      "Epoch 91/100\n",
      "88/88 [==============================] - 1s 6ms/sample - loss: 0.0019 - val_loss: 0.0104\n",
      "Epoch 92/100\n",
      "88/88 [==============================] - 1s 6ms/sample - loss: 0.0020 - val_loss: 0.0276\n",
      "Epoch 93/100\n",
      "88/88 [==============================] - 1s 6ms/sample - loss: 0.0018 - val_loss: 0.0153\n",
      "Epoch 94/100\n",
      "88/88 [==============================] - 1s 6ms/sample - loss: 0.0018 - val_loss: 0.0089\n",
      "Epoch 95/100\n",
      "88/88 [==============================] - 1s 6ms/sample - loss: 0.0018 - val_loss: 0.0139\n",
      "Epoch 96/100\n",
      "88/88 [==============================] - 1s 6ms/sample - loss: 0.0018 - val_loss: 0.0329\n",
      "Epoch 97/100\n",
      "88/88 [==============================] - 1s 6ms/sample - loss: 0.0019 - val_loss: 0.0243\n",
      "Epoch 98/100\n",
      "88/88 [==============================] - 1s 6ms/sample - loss: 0.0019 - val_loss: 0.0219\n",
      "Epoch 99/100\n",
      "88/88 [==============================] - 1s 6ms/sample - loss: 0.0019 - val_loss: 0.0360\n",
      "Epoch 100/100\n",
      "88/88 [==============================] - 1s 7ms/sample - loss: 0.0019 - val_loss: 0.0157\n"
     ]
    },
    {
     "data": {
      "text/plain": [
       "<tensorflow.python.keras.callbacks.History at 0x7fad2dd14890>"
      ]
     },
     "execution_count": 15,
     "metadata": {},
     "output_type": "execute_result"
    }
   ],
   "source": [
    "model=Sequential()\n",
    "model.add(LSTM(50,return_sequences=True,input_shape=(4,1)))\n",
    "model.add(LSTM(50))\n",
    "model.add(Dense(1))\n",
    "model.compile(loss='mean_squared_error',optimizer='adam')\n",
    "model.fit(X_train,y_train,validation_data=(X_test,y_test),epochs=100,batch_size=1,verbose=1)"
   ]
  },
  {
   "cell_type": "code",
   "execution_count": 16,
   "metadata": {},
   "outputs": [],
   "source": [
    "train_predict=model.predict(X_train)\n",
    "test_predict=model.predict(X_test)"
   ]
  },
  {
   "cell_type": "code",
   "execution_count": 17,
   "metadata": {},
   "outputs": [],
   "source": [
    "## Transform back to original form\n",
    "\n",
    "train_predict=scaler.inverse_transform(train_predict)\n",
    "test_predict=scaler.inverse_transform(test_predict)"
   ]
  },
  {
   "cell_type": "code",
   "execution_count": 18,
   "metadata": {},
   "outputs": [
    {
     "data": {
      "text/plain": [
       "219.41352897636477"
      ]
     },
     "execution_count": 18,
     "metadata": {},
     "output_type": "execute_result"
    }
   ],
   "source": [
    "## Calculate RMSE performance metrics\n",
    "\n",
    "import math\n",
    "from sklearn.metrics import mean_squared_error\n",
    "\n",
    "math.sqrt(mean_squared_error(y_train,train_predict))"
   ]
  },
  {
   "cell_type": "code",
   "execution_count": 27,
   "metadata": {},
   "outputs": [
    {
     "data": {
      "text/plain": [
       "377.64044912741707"
      ]
     },
     "execution_count": 27,
     "metadata": {},
     "output_type": "execute_result"
    }
   ],
   "source": [
    "## Test Data RMSE\n",
    "\n",
    "math.sqrt(mean_squared_error(y_test,test_predict))"
   ]
  },
  {
   "cell_type": "code",
   "execution_count": 29,
   "metadata": {},
   "outputs": [
    {
     "data": {
      "image/png": "[encoded data removed]",
      "text/plain": [
       "<Figure size 432x288 with 1 Axes>"
      ]
     },
     "metadata": {
      "needs_background": "light"
     },
     "output_type": "display_data"
    }
   ],
   "source": [
    "# shift train predictions for plotting\n",
    "\n",
    "look_back=4  #look_back = timestep\n",
    "trainPredictPlot = numpy.empty_like(df)\n",
    "trainPredictPlot[:, :] = np.nan\n",
    "trainPredictPlot[look_back:len(train_predict)+look_back, :] = train_predict\n",
    "\n",
    "# shift test predictions for plotting\n",
    "testPredictPlot = numpy.empty_like(df)\n",
    "testPredictPlot[:, :] = numpy.nan\n",
    "testPredictPlot[len(train_predict)+(look_back*2)+1:len(df)-1, :] = test_predict\n",
    "\n",
    "# plot baseline and predictions\n",
    "plt.plot(scaler.inverse_transform(df))\n",
    "plt.plot(trainPredictPlot)\n",
    "plt.plot(testPredictPlot)\n",
    "plt.show()"
   ]
  },
  {
   "cell_type": "code",
   "execution_count": null,
   "metadata": {},
   "outputs": [],
   "source": []
  }
 ],
 "metadata": {
  "kernelspec": {
   "display_name": "Python 3",
   "language": "python",
   "name": "python3"
  },
  "language_info": {
   "codemirror_mode": {
    "name": "ipython",
    "version": 3
   },
   "file_extension": ".py",
   "mimetype": "text/x-python",
   "name": "python",
   "nbconvert_exporter": "python",
   "pygments_lexer": "ipython3",
   "version": "3.7.6"
  }
 },
 "nbformat": 4,
 "nbformat_minor": 4
}
